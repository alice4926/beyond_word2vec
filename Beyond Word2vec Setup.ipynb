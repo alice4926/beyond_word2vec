{
 "cells": [
  {
   "cell_type": "markdown",
   "metadata": {},
   "source": [
    "# Beyond Word2vec: Setup"
   ]
  },
  {
   "cell_type": "markdown",
   "metadata": {},
   "source": [
    "### 1) Clone repo \n",
    "\n",
    "```bash\n",
    "git clone git@github.com:andrewdblevins/beyond_word2vec.git\n",
    "```\n",
    "\n",
    "once you clone this repo, you can follow along these instructions in this notebook"
   ]
  },
  {
   "cell_type": "markdown",
   "metadata": {},
   "source": [
    "### 2) Python Installs: \n",
    "\n",
    "Please note, that we'll need several packages installed on your laptop.\n",
    "\n",
    "If you have python, gensim and keras installed on your laptop you are probably good to go.\n",
    "\n",
    "If you haven't performed installs yet, here are some steps to follow:\n",
    "\n",
    "I generally recommend using the [anaconda package](https://anaconda.org/anaconda/python)\n",
    "\n",
    "Create a conda environment:  \n",
    "\n",
    "```bash\n",
    "conda create -n beyondw2v python=3    \n",
    "source activate beyondw2v\n",
    "conda install anaconda     \n",
    "```\n",
    "Then install additional packages:    \n",
    "```bash\n",
    "conda install gensim\n",
    "conda install -c conda-forge keras     \n",
    "conda install -c conda-forge theano\n",
    "```"
   ]
  },
  {
   "cell_type": "markdown",
   "metadata": {},
   "source": [
    "### 3) Pretrained Word Vectors\n",
    "Download the pretrained google news word vectors\n",
    "\n",
    "**warning: This file is 3.6GB**"
   ]
  },
  {
   "cell_type": "code",
   "execution_count": null,
   "metadata": {
    "collapsed": true
   },
   "outputs": [],
   "source": [
    "!wget https://s3.amazonaws.com/mordecai-geo/GoogleNews-vectors-negative300.bin.gz"
   ]
  },
  {
   "cell_type": "markdown",
   "metadata": {},
   "source": [
    "**Optional** you may want to test other pretrained vectors. If so, download those\n",
    "\n",
    "* glove http://nlp.stanford.edu/projects/glove/\n",
    "* sense2vec https://github.com/explosion/sense2vec\n",
    "* fastText https://github.com/facebookresearch/fastText/blob/master/pretrained-vectors.md\n",
    "* metaembeddings http://cistern.cis.lmu.de/meta-emb/"
   ]
  },
  {
   "cell_type": "markdown",
   "metadata": {},
   "source": [
    "### 4) Evaluation Dataset\n",
    "\n",
    "https://nlp.stanford.edu/projects/snli/\n",
    "\n",
    "Download the following ~100MB:"
   ]
  },
  {
   "cell_type": "code",
   "execution_count": null,
   "metadata": {
    "collapsed": true
   },
   "outputs": [],
   "source": [
    "!wget https://nlp.stanford.edu/projects/snli/snli_1.0.zip"
   ]
  }
 ],
 "metadata": {
  "kernelspec": {
   "display_name": "Python 3",
   "language": "python",
   "name": "python3"
  },
  "language_info": {
   "codemirror_mode": {
    "name": "ipython",
    "version": 3
   },
   "file_extension": ".py",
   "mimetype": "text/x-python",
   "name": "python",
   "nbconvert_exporter": "python",
   "pygments_lexer": "ipython3",
   "version": "3.6.1"
  }
 },
 "nbformat": 4,
 "nbformat_minor": 2
}
